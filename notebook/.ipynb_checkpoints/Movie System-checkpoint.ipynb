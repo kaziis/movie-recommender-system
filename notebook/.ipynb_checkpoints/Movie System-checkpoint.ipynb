{
 "cells": [
  {
   "cell_type": "markdown",
   "metadata": {},
   "source": [
    "# Project Overview\n",
    "\n",
    "The project is intended to replicate the Netflix movie recommender system."
   ]
  },
  {
   "cell_type": "markdown",
   "metadata": {
    "cell_id": "4a5a0be37ab24e4fb29a35cbdf391932",
    "deepnote_cell_type": "markdown"
   },
   "source": [
    "# Importing Libaries"
   ]
  },
  {
   "cell_type": "code",
   "execution_count": null,
   "metadata": {
    "cell_id": "cb71393d995f4cc396964ccd2f8e255d",
    "deepnote_cell_type": "code",
    "deepnote_to_be_reexecuted": false,
    "execution_millis": 1451,
    "execution_start": 1680833154296,
    "source_hash": "a56f640a"
   },
   "outputs": [],
   "source": [
    "import pandas as pd\n",
    "import numpy as np\n",
    "import seaborn as sns\n",
    "import matplotlib.pyplot as plt\n",
    "import nltk\n",
    "import ast\n",
    "import string\n",
    "import re"
   ]
  },
  {
   "cell_type": "code",
   "execution_count": null,
   "metadata": {
    "cell_id": "df0d567aa7e34ace88381e88e8cf5f66",
    "deepnote_cell_type": "code",
    "deepnote_to_be_reexecuted": false,
    "execution_millis": 338,
    "execution_start": 1680833155752,
    "source_hash": "e1b3f957"
   },
   "outputs": [],
   "source": [
    "credits_df = pd.read_csv(r\"C:\\Users\\kazir\\OneDrive\\Desktop\\Github\\Movie_Model\\Movie_MODEL\\Movie_MOD\\Project\\CSVs\\tmdb_5000_credits.csv\")\n",
    "movies_df = pd.read_csv(r\"C:\\Users\\kazir\\OneDrive\\Desktop\\Github\\Movie_Model\\Movie_MODEL\\Movie_MOD\\Project\\CSVs\\tmdb_5000_movies.csv\")"
   ]
  },
  {
   "cell_type": "markdown",
   "metadata": {
    "cell_id": "368280be6a414a02b528f2337b34e532",
    "deepnote_cell_type": "markdown"
   },
   "source": [
    "# Data Exploration\n",
    "\n",
    "Explore the data we are dealing with:\n",
    "- Understanding the shape, columns, and rows in the data.\n",
    "- Type of data.\n",
    "- Look for any missing values.\n",
    "- Summarize the differences and similarities between the datasets."
   ]
  },
  {
   "cell_type": "code",
   "execution_count": null,
   "metadata": {
    "cell_id": "9f99846e34a9419fb9001d5a0ecffee1",
    "deepnote_cell_type": "code",
    "deepnote_to_be_reexecuted": false,
    "execution_millis": 3,
    "execution_start": 1680833156096,
    "source_hash": "966c863f"
   },
   "outputs": [],
   "source": [
    "# Datasets contain the same amount of columns# Datasets contain the same amount of columns\n",
    "print (f'The shape of the movies file is: {movies_df.shape}')\n",
    "print (f'The shape of the credits file is: {credits_df.shape}')"
   ]
  },
  {
   "cell_type": "code",
   "execution_count": null,
   "metadata": {
    "cell_id": "ecb48a845f6e4d338c74245f5359ed4f",
    "deepnote_cell_type": "code",
    "deepnote_to_be_reexecuted": false,
    "execution_millis": 4,
    "execution_start": 1680833156102,
    "source_hash": "bdf6b6f1"
   },
   "outputs": [],
   "source": [
    "# The movies dataset has interesting columns that can be used for the machine learning model. For example, the vote_count and the keywords columns\n",
    "print (f'The columns of the movies dataset are: {movies_df.columns}\\n')\n",
    "print (f'The columns of the credits dataset are: {credits_df.columns}')"
   ]
  },
  {
   "cell_type": "markdown",
   "metadata": {
    "cell_id": "4990a29a9dd141588216df253835932e",
    "deepnote_cell_type": "markdown"
   },
   "source": [
    "## Data Types\n",
    "\n",
    "**Movies:**\n",
    "- Contains some integer and float values in the dataset.\n",
    "- Most of the data types are a object.\n",
    "\n",
    "**Credits:**\n",
    "- Only one integer value column.\n",
    "- All the other data types are an object."
   ]
  },
  {
   "cell_type": "code",
   "execution_count": null,
   "metadata": {
    "cell_id": "3cb05436bb6c4d53a30e89fd5ac26870",
    "deepnote_cell_type": "code",
    "deepnote_to_be_reexecuted": false,
    "execution_millis": 1,
    "execution_start": 1680833156152,
    "source_hash": "bc7816f0"
   },
   "outputs": [],
   "source": [
    "print (f'The movies dataset types are:\\n{movies_df.dtypes}\\n')\n",
    "print (f'The credits dataset types are:\\n{credits_df.dtypes}')"
   ]
  },
  {
   "cell_type": "markdown",
   "metadata": {
    "cell_id": "c9da57dd9eba439c88617979259fc017",
    "deepnote_cell_type": "markdown"
   },
   "source": [
    "## Missing Values\n",
    "\n",
    "Summing both datasets for any missing value columns. This way we don't run into an error moving forward and are aware of the data."
   ]
  },
  {
   "cell_type": "code",
   "execution_count": null,
   "metadata": {
    "cell_id": "4d21da38e7984debbea05ae67f718e7e",
    "deepnote_cell_type": "code",
    "deepnote_to_be_reexecuted": false,
    "execution_millis": 2,
    "execution_start": 1680833156152,
    "source_hash": "fc7fda08"
   },
   "outputs": [],
   "source": [
    "movies_df.isna().sum()"
   ]
  },
  {
   "cell_type": "code",
   "execution_count": null,
   "metadata": {
    "cell_id": "c599dfa554ee4610af418723da4dd8ee",
    "deepnote_cell_type": "code",
    "deepnote_to_be_reexecuted": false,
    "execution_millis": 2,
    "execution_start": 1680833156175,
    "source_hash": "f3868ecc"
   },
   "outputs": [],
   "source": [
    "# The credits file is not missing any of the values\n",
    "credits_df.isna().sum()"
   ]
  },
  {
   "cell_type": "markdown",
   "metadata": {
    "cell_id": "7a0977cda3f741b0b8b8c91e40548f6e",
    "deepnote_cell_type": "markdown"
   },
   "source": [
    "## ID Column\n",
    "\n",
    "Note: The **ID** column can be used later in the project to match the datasets."
   ]
  },
  {
   "cell_type": "code",
   "execution_count": null,
   "metadata": {
    "cell_id": "7a6b089b18e24b6084a623e8d23ff61c",
    "deepnote_cell_type": "code",
    "deepnote_to_be_reexecuted": false,
    "execution_millis": 2,
    "execution_start": 1680833156175,
    "source_hash": "1fb4ecb6"
   },
   "outputs": [],
   "source": [
    "movies_df['id'][:5]"
   ]
  },
  {
   "cell_type": "code",
   "execution_count": null,
   "metadata": {
    "cell_id": "1221c8336a3b4b34886b6c9be46dc40f",
    "deepnote_cell_type": "code",
    "deepnote_to_be_reexecuted": false,
    "execution_millis": 5,
    "execution_start": 1680833156177,
    "source_hash": "42468e29"
   },
   "outputs": [],
   "source": [
    "credits_df['movie_id'][:5]"
   ]
  },
  {
   "cell_type": "markdown",
   "metadata": {
    "cell_id": "5b71cef527974a9f9f89dc86f726510d",
    "deepnote_cell_type": "markdown"
   },
   "source": [
    "## Side-by-Side Comparison\n",
    "\n",
    "Using the first row only to see the similarities and differences between the datasets. This will help us understand how the data is organized."
   ]
  },
  {
   "cell_type": "code",
   "execution_count": null,
   "metadata": {
    "cell_id": "283da5b330454cc39d079d41cd951a09",
    "deepnote_cell_type": "code",
    "deepnote_to_be_reexecuted": false,
    "execution_millis": 14,
    "execution_start": 1680833156182,
    "source_hash": "46ab0b22"
   },
   "outputs": [],
   "source": [
    "movies_df.loc[0]"
   ]
  },
  {
   "cell_type": "code",
   "execution_count": null,
   "metadata": {
    "cell_id": "60d0985cc5ad494dbf0f78ee561e4274",
    "deepnote_cell_type": "code",
    "deepnote_to_be_reexecuted": false,
    "execution_millis": 4,
    "execution_start": 1680833156199,
    "source_hash": "5d6ad40c"
   },
   "outputs": [],
   "source": [
    "credits_df.loc[0]"
   ]
  },
  {
   "cell_type": "markdown",
   "metadata": {
    "cell_id": "dd1c81841b474edb9ddf90f38ab91ac5",
    "deepnote_cell_type": "text-cell-h2",
    "formattedRanges": [],
    "is_collapsed": false,
    "tags": []
   },
   "source": [
    "## Movie Status"
   ]
  },
  {
   "cell_type": "markdown",
   "metadata": {
    "cell_id": "b1229ffd-d84f-43c6-9411-7be9f070b581",
    "deepnote_cell_type": "text-cell-p",
    "formattedRanges": [],
    "is_collapsed": false,
    "tags": []
   },
   "source": [
    "Most of the movies in the dataset have been released."
   ]
  },
  {
   "cell_type": "code",
   "execution_count": null,
   "metadata": {
    "cell_id": "2e38c14f8fe54852b3d80aae1c8227ca",
    "deepnote_cell_type": "code",
    "deepnote_to_be_reexecuted": false,
    "execution_millis": 3,
    "execution_start": 1680833156202,
    "source_hash": "8ea553f1",
    "tags": []
   },
   "outputs": [],
   "source": [
    "movies_df.status.value_counts()"
   ]
  },
  {
   "cell_type": "code",
   "execution_count": null,
   "metadata": {
    "cell_id": "3d8808b644d943ff82edcb1058af1313",
    "deepnote_cell_type": "code",
    "deepnote_to_be_reexecuted": false,
    "execution_millis": 163,
    "execution_start": 1680833156206,
    "source_hash": "8ec97c32",
    "tags": []
   },
   "outputs": [],
   "source": [
    "movies_df.sort_values(by='popularity', ascending=False).head(3)"
   ]
  },
  {
   "cell_type": "markdown",
   "metadata": {},
   "source": [
    "# Filtering Dataset"
   ]
  },
  {
   "cell_type": "code",
   "execution_count": null,
   "metadata": {},
   "outputs": [],
   "source": [
    "# Movies that are repeated in the dataset\n",
    "movies_df['title'].value_counts()"
   ]
  },
  {
   "cell_type": "code",
   "execution_count": null,
   "metadata": {},
   "outputs": [],
   "source": [
    "movies_df['id'].value_counts()"
   ]
  },
  {
   "cell_type": "markdown",
   "metadata": {},
   "source": [
    "### Summary\n",
    "The movies are not popular so we might be able to drop these columns."
   ]
  },
  {
   "cell_type": "code",
   "execution_count": null,
   "metadata": {
    "scrolled": false
   },
   "outputs": [],
   "source": [
    "plt.figure(figsize=(6,4))\n",
    "sns.histplot(data=movies_df['popularity'])\n",
    "plt.xlabel('Popularity')\n",
    "plt.ylabel('Count')\n",
    "plt.xlim(0,150)\n",
    "plt.show()"
   ]
  },
  {
   "cell_type": "code",
   "execution_count": null,
   "metadata": {},
   "outputs": [],
   "source": [
    "movies_df['vote_count'].describe()"
   ]
  },
  {
   "cell_type": "code",
   "execution_count": null,
   "metadata": {},
   "outputs": [],
   "source": [
    "movies_df['popularity'].describe()"
   ]
  },
  {
   "cell_type": "markdown",
   "metadata": {
    "cell_id": "9fd259cecbfe42b591f52d9a394ce766",
    "deepnote_cell_type": "text-cell-h2",
    "formattedRanges": [],
    "is_collapsed": false,
    "tags": []
   },
   "source": [
    "## Data Transformation"
   ]
  },
  {
   "cell_type": "markdown",
   "metadata": {
    "cell_id": "30065b571a8843a4859b66ff76180f97",
    "deepnote_cell_type": "markdown"
   },
   "source": [
    "### Unpacking\n",
    "The functions below are using the *ast* library to unpack from the columns that are packed. Each function convert the data into new columns without the packed columns bundled into one."
   ]
  },
  {
   "cell_type": "markdown",
   "metadata": {
    "cell_id": "900b47f5d81347dab7ae17ce51217f6b",
    "deepnote_cell_type": "markdown"
   },
   "source": [
    "#### Movie Data"
   ]
  },
  {
   "cell_type": "code",
   "execution_count": null,
   "metadata": {
    "cell_id": "7d15c2507969494d979f6e7149624768",
    "deepnote_cell_type": "code",
    "deepnote_to_be_reexecuted": false,
    "execution_millis": 151,
    "execution_start": 1680833156488,
    "source_hash": "5816f18b",
    "tags": []
   },
   "outputs": [],
   "source": [
    "def genres_clean(data):\n",
    "    extract = []\n",
    "    for i in ast.literal_eval(data):\n",
    "        extract.append(i['name'])\n",
    "    return extract\n",
    "movies_df['genres'] = movies_df['genres'].apply(genres_clean)"
   ]
  },
  {
   "cell_type": "code",
   "execution_count": null,
   "metadata": {
    "cell_id": "fe4e24bba66241bca000015767e4137e",
    "deepnote_cell_type": "code",
    "deepnote_to_be_reexecuted": false,
    "execution_millis": 299,
    "execution_start": 1680833156696,
    "source_hash": "bbf87e57"
   },
   "outputs": [],
   "source": [
    "def keywords_clean(data):\n",
    "    extract = []\n",
    "    for i in ast.literal_eval(data):\n",
    "        extract.append(i['name'])\n",
    "    return extract\n",
    "movies_df['keywords'] = movies_df['keywords'].apply(keywords_clean)"
   ]
  },
  {
   "cell_type": "code",
   "execution_count": null,
   "metadata": {
    "cell_id": "018859b54a92452b96a3b2b586710b6b",
    "deepnote_cell_type": "code",
    "deepnote_to_be_reexecuted": false,
    "execution_millis": 86,
    "execution_start": 1680833156999,
    "source_hash": "e57714ea"
   },
   "outputs": [],
   "source": [
    "def languages_clean(data):\n",
    "    extract = []\n",
    "    for i in ast.literal_eval(data):\n",
    "        extract.append(i['name'])\n",
    "    return extract\n",
    "movies_df['spoken_languages'] = movies_df['spoken_languages'].apply(languages_clean)"
   ]
  },
  {
   "cell_type": "code",
   "execution_count": null,
   "metadata": {},
   "outputs": [],
   "source": [
    "def production_clean(data):\n",
    "    extract = []\n",
    "    for i in ast.literal_eval(data):\n",
    "        extract.append(i['name'])\n",
    "    return extract\n",
    "movies_df['production_companies'] = movies_df['production_companies'].apply(production_clean)"
   ]
  },
  {
   "cell_type": "markdown",
   "metadata": {
    "cell_id": "100b911ab33a4d0ab0980161dfa644c0",
    "deepnote_cell_type": "markdown"
   },
   "source": [
    "#### Credits Data"
   ]
  },
  {
   "cell_type": "code",
   "execution_count": null,
   "metadata": {
    "cell_id": "40ea8419171943998546722d23698a5a",
    "deepnote_cell_type": "code",
    "deepnote_to_be_reexecuted": false,
    "execution_millis": 2827,
    "execution_start": 1680833157112,
    "source_hash": "18f1a9ed"
   },
   "outputs": [],
   "source": [
    "def cast_clean(data):\n",
    "    extract = []\n",
    "    for i in ast.literal_eval(data):\n",
    "        extract.append(i['name'])\n",
    "    return extract\n",
    "\n",
    "credits_df['cast'] = credits_df['cast'].apply(cast_clean)"
   ]
  },
  {
   "cell_type": "code",
   "execution_count": null,
   "metadata": {
    "cell_id": "9527ee76b4a94beeae0aec03c52eb70d",
    "deepnote_cell_type": "code",
    "deepnote_to_be_reexecuted": false,
    "execution_millis": 3445,
    "execution_start": 1680833159970,
    "source_hash": "e36e2ade"
   },
   "outputs": [],
   "source": [
    "def crew_clean(data):\n",
    "    extract = []\n",
    "    for i in ast.literal_eval(data):\n",
    "        extract.append(i['name'])\n",
    "    return extract\n",
    "\n",
    "credits_df['crew'] = credits_df['crew'].apply(crew_clean)"
   ]
  },
  {
   "cell_type": "markdown",
   "metadata": {
    "cell_id": "331b23ea74624541ad07f09145893c09",
    "deepnote_cell_type": "text-cell-h1",
    "formattedRanges": [],
    "is_collapsed": false,
    "tags": []
   },
   "source": [
    "# Fixing Null Values"
   ]
  },
  {
   "cell_type": "markdown",
   "metadata": {
    "cell_id": "6439b322c42c49b9b6962d8bb8ea62bf",
    "deepnote_cell_type": "text-cell-h2",
    "formattedRanges": [],
    "is_collapsed": false,
    "tags": []
   },
   "source": [
    "## Adding to Missing Overviews"
   ]
  },
  {
   "cell_type": "markdown",
   "metadata": {
    "cell_id": "10717bcb-42a2-46db-a55a-ec7af0c99864",
    "deepnote_cell_type": "text-cell-p",
    "formattedRanges": [],
    "is_collapsed": false,
    "tags": []
   },
   "source": [
    "Adding missing overviews back into the dataset."
   ]
  },
  {
   "cell_type": "markdown",
   "metadata": {},
   "source": [
    "## Overview"
   ]
  },
  {
   "cell_type": "code",
   "execution_count": null,
   "metadata": {
    "cell_id": "f3c53676c2ee4891af6dea0b282ca6de",
    "deepnote_cell_type": "code",
    "deepnote_to_be_reexecuted": false,
    "execution_millis": 29,
    "execution_start": 1680833163589,
    "source_hash": "c5e7aab1",
    "tags": []
   },
   "outputs": [],
   "source": [
    "movies_df.loc[movies_df.original_title == 'The Dark Knight','overview'] = \"When the menace known as the Joker wreaks havoc and chaos on the people of Gotham, Batman must accept one of the greatest psychological and physical tests of his ability to fight injustice.\"\n",
    "movies_df.loc[movies_df.original_title == 'Inside Out','overview'] = \"After young Riley is uprooted from her Midwest life and moved to San Francisco, her emotions - Joy, Fear, Anger, Disgust and Sadness - conflict on how best to navigate a new city, house, and school.\"\n",
    "movies_df.loc[movies_df.original_title == 'Guardians of the Galaxy','overview'] = \"A group of intergalactic criminals must pull together to stop a fanatical warrior with plans to purge the universe.\"\n",
    "movies_df.loc[movies_df.original_title == 'Interstellar','overview'] = \"A team of explorers travel through a wormhole in space in an attempt to ensure humanity's survival.\"\n",
    "movies_df.loc[movies_df.original_title == 'Inception','overview'] = \"A thief who steals corporate secrets through the use of dream-sharing technology is given the inverse task of planting an idea into the mind of a C.E.O., but his tragic past may doom the project and his team to disaster.\"\n",
    "movies_df.loc[movies_df.original_title == 'The Lord of the Rings: The Fellowship of the Ring','overview'] = \"A meek Hobbit from the Shire and eight companions set out on a journey to destroy the powerful One Ring and save Middle-earth from the Dark Lord Sauron.\"\n",
    "movies_df.loc[movies_df.original_title == 'Django Unchained','overview'] = \"With the help of a German bounty-hunter, a freed slave sets out to rescue his wife from a brutal plantation owner in Mississippi.\"\n",
    "movies_df.loc[movies_df.original_title == 'The Wolf of Wall Street','overview'] = \"Based on the true story of Jordan Belfort, from his rise to a wealthy stock-broker living the high life to his fall involving crime, corruption and the federal government.\"\n",
    "movies_df.loc[movies_df.original_title == 'The Lord of the Rings: The Return of the King','overview'] = \"Gandalf and Aragorn lead the World of Men against Sauron's army to draw his gaze from Frodo and Sam as they approach Mount Doom with the One Ring.\"\n",
    "movies_df.loc[movies_df.original_title == 'The Lord of the Rings: The Two Towers','overview'] = \"While Frodo and Sam edge closer to Mordor with the help of the shifty Gollum, the divided fellowship makes a stand against Sauron's new ally, Saruman, and his hordes of Isengard.\"\n",
    "movies_df.loc[movies_df.original_title == 'The Lion King','overview'] = \"After the murder of his father, a young lion prince flees his kingdom only to learn the true meaning of responsibility and bravery.\"\n",
    "movies_df.loc[movies_df.original_title == 'The Matrix','overview'] = \"When a beautiful stranger leads computer hacker Neo to a forbidding underworld, he discovers the shocking truth--the life he knows is the elaborate deception of an evil cyber-intelligence.\"\n",
    "movies_df.loc[movies_df.original_title == 'Fight Club','overview'] = \"An insomniac office worker and a devil-may-care soap maker form an underground fight club that evolves into much more.\"\n",
    "movies_df.loc[movies_df.original_title == 'The Green Mile','overview'] = \"The lives of guards on Death Row are affected by one of their charges: a black man accused of child murder and rape, yet who has a mysterious gift.\"\n",
    "movies_df.loc[movies_df.original_title == 'Forrest Gump','overview'] = \"The presidencies of Kennedy and Johnson, the Vietnam War, the Watergate scandal and other historical events unfold from the perspective of an Alabama man with an IQ of 75, whose only desire is to be reunited with his childhood sweetheart\"\n",
    "movies_df.loc[movies_df.original_title == 'Se7en','overview'] = \"Two detectives, a rookie and a veteran, hunt a serial killer who uses the seven deadly sins as his motives.\"\n",
    "movies_df.loc[movies_df.original_title == \"Schindler's List\",'overview'] = \"In German-occupied Poland during World War II, industrialist Oskar Schindler gradually becomes concerned for his Jewish workforce after witnessing their persecution by the Nazis.\"\n",
    "movies_df.loc[movies_df.original_title == 'The Shawshank Redemption','overview'] = \"Over the course of several years, two convicts form a friendship, seeking consolation and, eventually, redemption through basic compassion.\"\n",
    "movies_df.loc[movies_df.original_title == 'The Empire Strikes Back','overview'] = \"After the Rebels are overpowered by the Empire, Luke Skywalker begins Jedi training with Yoda, while his friends are pursued across the galaxy by Darth Vader and bounty hunter Boba Fett.\"\n",
    "movies_df.loc[movies_df.original_title == 'The Silence of the Lambs','overview'] = \"A young F.B.I. cadet must receive the help of an incarcerated and manipulative cannibal killer to help catch another serial killer, a madman who skins his victims.\"\n",
    "movies_df.loc[movies_df.original_title == 'Back to the Future','overview'] = \"Marty McFly, a 17-year-old high school student, is accidentally sent 30 years into the past in a time-traveling DeLorean invented by his close friend, the maverick scientist Doc Brown.\"\n",
    "movies_df.loc[movies_df.original_title == '千と千尋の神隠し','overview'] = \"During her family's move to the suburbs, a sullen 10-year-old girl wanders into a world ruled by gods, witches, and spirits, and where humans are changed into beasts.\"\n",
    "movies_df.loc[movies_df.original_title == 'The Imitation Game','overview'] = \"During World War II, the English mathematical genius Alan Turing tries to crack the German Enigma code with help from fellow mathematicians while attempting to come to terms with his troubled private life.\"\n",
    "movies_df.loc[movies_df.original_title == 'Chiamatemi Francesco - Il Papa della gente','overview'] = \"The story of Pope Francis' life.\"\n",
    "movies_df.loc[movies_df.original_title == 'The Godfather: Part II','overview'] = \"The early life and career of Vito Corleone in 1920s New York City is portrayed, while his son, Michael, expands and tightens his grip on the family crime syndicate.\"\n",
    "movies_df.loc[movies_df.original_title == 'Star Wars','overview'] = \"Luke Skywalker joins forces with a Jedi Knight, a cocky pilot, a Wookiee and two droids to save the galaxy from the Empire's world-destroying battle station, while also attempting to rescue Princess Leia from the mysterious Darth Vader.\"\n",
    "movies_df.loc[movies_df.original_title == 'Pulp Fiction','overview'] = \"The lives of two mob hitmen, a boxer, a gangster and his wife, and a pair of diner bandits intertwine in four tales of violence and redemption.\"\n",
    "movies_df.loc[movies_df.original_title == 'The Godfather','overview'] = \"The aging patriarch of an organized crime dynasty in postwar New York City transfers control of his clandestine empire to his reluctant youngest son.\"\n",
    "movies_df.loc[movies_df.original_title == 'Whiplash','overview'] = \"A promising young drummer enrolls at a cut-throat music conservatory where his dreams of greatness are mentored by an instructor who will stop at nothing to realize a student's potential.\"\n",
    "movies_df.loc[movies_df.original_title == 'To Be Frank, Sinatra at 100','overview'] = \"The life of Frank Sinatra, as an actor and singer and the steps along the way that led him to become such an icon.\"\n",
    "movies_df.loc[movies_df.original_title == 'Food Chains','overview'] = \"There is so much interest in food these days yet there is almost no interest in the hands that pick that food. In the US, farm labor has always been one of the most difficult and poorly paid jobs and has relied on some of the nation's most vulnerable people. While the legal restrictions which kept people bound to farms, like slavery, have been abolished, exploitation still exists, ranging from wage theft to modern-day slavery. These days, this exploitation is perpetuated by the corporations at the top of the food chain: supermarkets. Their buying power has kept wages pitifully low and has created a scenario where desperately poor people are willing to put up with anything to keep their jobs.\""
   ]
  },
  {
   "cell_type": "markdown",
   "metadata": {},
   "source": [
    "# Merge Data"
   ]
  },
  {
   "cell_type": "markdown",
   "metadata": {},
   "source": [
    "### Credits Drop"
   ]
  },
  {
   "cell_type": "code",
   "execution_count": null,
   "metadata": {},
   "outputs": [],
   "source": [
    "# Just beacuse we do not want this data to be repeated\n",
    "credits_df.drop(columns=['title'], inplace=True)"
   ]
  },
  {
   "cell_type": "code",
   "execution_count": null,
   "metadata": {},
   "outputs": [],
   "source": [
    "merged_df = movies_df.merge(credits_df, left_on='id', right_on='movie_id')\n",
    "merged_df.head(3)"
   ]
  },
  {
   "cell_type": "code",
   "execution_count": null,
   "metadata": {},
   "outputs": [],
   "source": [
    "merged_df['production_companies'][0]"
   ]
  },
  {
   "cell_type": "markdown",
   "metadata": {},
   "source": [
    "# 50% DataFrame"
   ]
  },
  {
   "cell_type": "code",
   "execution_count": null,
   "metadata": {},
   "outputs": [],
   "source": [
    "from sklearn.feature_extraction.text import TfidfVectorizer\n",
    "from sklearn.metrics.pairwise import cosine_similarity\n",
    "import nltk\n",
    "from nltk.stem import PorterStemmer\n",
    "from nltk.corpus import stopwords\n",
    "import string\n",
    "pd.options.mode.chained_assignment = None"
   ]
  },
  {
   "cell_type": "code",
   "execution_count": null,
   "metadata": {
    "scrolled": false
   },
   "outputs": [],
   "source": [
    "cols_to_use = ['title', 'overview', 'genres', 'keywords', 'cast', 'crew','production_companies',\\\n",
    "               'popularity', 'vote_average', 'vote_count']\n",
    "filtered_df_by_50 = merged_df[cols_to_use]\n",
    "filtered_df_by_50[:5]"
   ]
  },
  {
   "cell_type": "markdown",
   "metadata": {},
   "source": [
    "## Creating a Text Cleaner"
   ]
  },
  {
   "cell_type": "code",
   "execution_count": null,
   "metadata": {},
   "outputs": [],
   "source": [
    "# Initializing Porter Stemmer and Stopwords\n",
    "ps = PorterStemmer()\n",
    "stopwords = stopwords.words('English')"
   ]
  },
  {
   "cell_type": "code",
   "execution_count": null,
   "metadata": {},
   "outputs": [],
   "source": [
    "def overview_formatter(text):\n",
    "    new_text = \"\".join([word.lower() for word in text if word not in string.punctuation])\n",
    "    tokens = re.split('\\W+', new_text)\n",
    "    stem_text = [ps.stem(word) for word in tokens if word not in stopwords]\n",
    "    clean_text = ' '.join(word for word in stem_text)\n",
    "    return clean_text\n",
    "\n",
    "filtered_df_by_50['overview'] = filtered_df_by_50['overview'].apply(lambda x: overview_formatter(x))"
   ]
  },
  {
   "cell_type": "code",
   "execution_count": null,
   "metadata": {
    "scrolled": true
   },
   "outputs": [],
   "source": [
    "filtered_df_by_50.head(3)"
   ]
  },
  {
   "cell_type": "markdown",
   "metadata": {},
   "source": [
    "# TFIDF-Vectorizer"
   ]
  },
  {
   "cell_type": "code",
   "execution_count": null,
   "metadata": {},
   "outputs": [],
   "source": [
    "# Intialize the vectorizer\n",
    "vectorizer = TfidfVectorizer()"
   ]
  },
  {
   "cell_type": "code",
   "execution_count": null,
   "metadata": {},
   "outputs": [],
   "source": [
    "counts = vectorizer.fit_transform(filtered_df_by_50['overview'])\n",
    "counts"
   ]
  },
  {
   "cell_type": "code",
   "execution_count": null,
   "metadata": {},
   "outputs": [],
   "source": [
    "# display the dataframe\n",
    "sparse_matrix = pd.DataFrame(counts.toarray(), columns=vectorizer.get_feature_names_out())\n",
    "sparse_matrix.head(10)"
   ]
  },
  {
   "cell_type": "code",
   "execution_count": null,
   "metadata": {},
   "outputs": [],
   "source": [
    "sparse_matrix['movie'] = filtered_df_by_50['title']"
   ]
  },
  {
   "cell_type": "code",
   "execution_count": null,
   "metadata": {
    "scrolled": false
   },
   "outputs": [],
   "source": [
    "sparse_matrix"
   ]
  },
  {
   "cell_type": "code",
   "execution_count": null,
   "metadata": {},
   "outputs": [],
   "source": [
    "from sklearn.model_selection import train_test_split\n",
    "from sklearn.ensemble import RandomForestClassifier\n",
    "from sklearn.metrics import accuracy_score"
   ]
  },
  {
   "cell_type": "code",
   "execution_count": null,
   "metadata": {},
   "outputs": [],
   "source": [
    "# Split independent and dependent variables\n",
    "x = sparse_matrix.drop(columns='movie')\n",
    "y = sparse_matrix['movie']"
   ]
  },
  {
   "cell_type": "code",
   "execution_count": null,
   "metadata": {},
   "outputs": [],
   "source": [
    "x_train, x_test, y_train, y_test = train_test_split(x, y, test_size=.30, random_state=42)"
   ]
  },
  {
   "cell_type": "code",
   "execution_count": null,
   "metadata": {},
   "outputs": [],
   "source": [
    "# Train the model\n",
    "random_forest = RandomForestClassifier(n_estimators=100, random_state=42)\n",
    "random_forest"
   ]
  },
  {
   "cell_type": "code",
   "execution_count": null,
   "metadata": {},
   "outputs": [],
   "source": [
    "random_forest.fit(x_train, y_train)"
   ]
  },
  {
   "cell_type": "code",
   "execution_count": null,
   "metadata": {},
   "outputs": [],
   "source": [
    "y_pred = random_forest.predict(x_test)\n",
    "\n",
    "print (f\"The accuracy score is {accuracy_scoreuracy_score(y_test, y_pred)}\")"
   ]
  }
 ],
 "metadata": {
  "deepnote": {},
  "deepnote_execution_queue": [],
  "deepnote_full_width": true,
  "deepnote_notebook_id": "820b68fc863e43d5ba41259487b56dac",
  "kernelspec": {
   "display_name": "Python 3 (ipykernel)",
   "language": "python",
   "name": "python3"
  },
  "language_info": {
   "codemirror_mode": {
    "name": "ipython",
    "version": 3
   },
   "file_extension": ".py",
   "mimetype": "text/x-python",
   "name": "python",
   "nbconvert_exporter": "python",
   "pygments_lexer": "ipython3",
   "version": "3.10.8"
  },
  "vscode": {
   "interpreter": {
    "hash": "d2d0a2f1beb3256eb411c5438c8012e17c3dad85f0692b805ef96ef6d83b4a89"
   }
  }
 },
 "nbformat": 4,
 "nbformat_minor": 1
}
